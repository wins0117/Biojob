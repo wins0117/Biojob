{
 "cells": [
  {
   "cell_type": "code",
   "execution_count": 17,
   "metadata": {},
   "outputs": [
    {
     "name": "stdout",
     "output_type": "stream",
     "text": [
      "训练集大小： (2912, 25) (2912,)\n",
      "测试集大小： (1942, 25) (1942,)\n",
      "准确率： 0.7461380020597322\n",
      "0.7461380020597322\n"
     ]
    }
   ],
   "source": [
    "from sklearn import datasets as ds\n",
    "from sklearn.datasets import load_svmlight_file\n",
    "from sklearn.preprocessing import StandardScaler\n",
    "from sklearn.model_selection import train_test_split,cross_val_score,cross_validate # 交叉验证所需的函数\n",
    "from sklearn.model_selection import KFold,LeaveOneOut,LeavePOut,ShuffleSplit # 交叉验证所需的子集划分方法\n",
    "from sklearn.model_selection import StratifiedKFold,StratifiedShuffleSplit # 分层分割\n",
    "from sklearn.model_selection import GroupKFold,LeaveOneGroupOut,LeavePGroupsOut,GroupShuffleSplit # 分组分割\n",
    "from sklearn.model_selection import TimeSeriesSplit # 时间序列分割\n",
    "from sklearn import datasets  # 自带数据集\n",
    "from sklearn import svm  # SVM算法\n",
    "from sklearn import preprocessing  # 预处理模块\n",
    "from sklearn.metrics import recall_score  # 模型度量\n",
    "import numpy as np\n",
    "\n",
    "def get_data():\n",
    "    data = load_svmlight_file(\"one.txt\")\n",
    "    return data[0],data[1]\n",
    "\n",
    "#加载iris数据集\n",
    "X, y = get_data()\n",
    "# ===================================数据集划分,训练模型==========================\n",
    "X_train, X_test, y_train, y_test = train_test_split(X, y, test_size=0.4, random_state=0)  # 交叉验证划分训练集和测试集.test_size为测试集所占的比例\n",
    "print('训练集大小：',X_train.shape,y_train.shape)  # 训练集样本大小\n",
    "print('测试集大小：',X_test.shape,y_test.shape)  # 测试集样本大小\n",
    "clf = svm.SVC(kernel='linear', C=1).fit(X_train, y_train) # 使用训练集训练模型\n",
    "print('准确率：',clf.score(X_test, y_test))  # 计算测试集的度量值（准确率）\n",
    "#  如果涉及到归一化，则在测试集上也要使用训练集模型提取的归一化函数。\n",
    "\n",
    "\n",
    "clf = svm.SVC(kernel='linear', C=1).fit(X_train, y_train) # 使用训练集训练模型\n",
    "print(clf.score(X_test, y_test))  # 计算测试集的度量值（准确度）"
   ]
  },
  {
   "cell_type": "code",
   "execution_count": null,
   "metadata": {},
   "outputs": [],
   "source": []
  }
 ],
 "metadata": {
  "kernelspec": {
   "display_name": "Python 3",
   "language": "python",
   "name": "python3"
  },
  "language_info": {
   "codemirror_mode": {
    "name": "ipython",
    "version": 3
   },
   "file_extension": ".py",
   "mimetype": "text/x-python",
   "name": "python",
   "nbconvert_exporter": "python",
   "pygments_lexer": "ipython3",
   "version": "3.6.5"
  }
 },
 "nbformat": 4,
 "nbformat_minor": 2
}
