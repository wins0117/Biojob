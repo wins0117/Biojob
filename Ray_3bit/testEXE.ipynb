{
 "cells": [
  {
   "cell_type": "code",
   "execution_count": 3,
   "metadata": {
    "scrolled": true
   },
   "outputs": [
    {
     "name": "stdout",
     "output_type": "stream",
     "text": [
      "please input the sequence\n",
      "ATGTTGTGCTTCGACTCGGAGAGGATGAACTGGTACTACCACGTCCTGGCCAGGCGTCCCTACCTGGTGG TCGTCTCCATTGCTGTCTACTGTGTCGCTTGCATCATCGTGGCCCTCGTCCTGAACAAGCTGCCGGACTT CAGTGATCCCACCTTGGGCTTCGAAACCCGCGGCACCAAAATTGGAGAACGACTGACGGCCTGGTACAAC CTGCTGCAAGAGACTGACCACCATGGTGCTCTTTTCTCAAATCCATCGGATCTGTGGGAGAGGAGACGGG TAGAGCAGGGCTATGTGGAGACGAAGCTGCATCCGAATCACAGGCGACGCAAAAACAAGCACAAGAACAG AAACAAGAACAAGCGACGCAAGGAACAAAATCAAAGCAGCCACGAGCATCACGATGTGGCGCAGAAGATG ATGCAGTTCAAAAAACGGCTGAAGGCTACTAGTTCTCCCTCTCCAAATCTCGGCTTTGACACCTGGATCG GGGACAGTGGAGTATTTCGCGACTACGAGATTACAAACGACAGCGCTTCCTCCTCTTTGGAACCCACGCG ACGCACTGAGCAAATCGAATATGGCCACAACACCACCTCAGTGGACGAGGAAGAGCATCAGCAGCGGGTG CAGACCAAGAAGAGCACTTGGCGGCTCCTAAAGCAAGCCGCCACCTTGCCCACCGACGGTTGGGCAGACA TGCATCGTCGCCAACCCATCGAGGGATTCTTTTGCGATTCATCGCCCCGGAAGGAGTACTCTCATTTTGT GGTCCAGCGGATCGGTCCCAACGCCACCGATTCTCTATTTGATTTGAACGGACTGCTGGCCATGTGTCAG TTGCAGGATCAGATTACCGAAGTCCCCAGCTACCGGGCATTTTGCGAGCCGGAGATGCTTACCACCGAGT GCTGCCGGCCATGGTCACTGCCCAACTACGCCGCCATGCTGGCCAACAAAAGTTCCTGTTTCGACCTTAC CACGGAGGATGTTACTTCGCTGCACACGCTGCTCTTGGGCTGCTATGAGTACTTCCATGACCTAAAGATG GACAACCACTGCAACGAAATACCGCATTGTCGTGCTCCTGAAGAGTGCAAGCGGCTAAATATCGTCTTTA ACGTCCTGAATTTTCTCACCGACTTTAGTTTCATCAAGTCTAATGACTCGAATGTATACCTGAAATACGC CATGATTTTTATACCCGTGGCGCAATCCAACCGCTTGCTGCCACTGTTCCACGAATGGGAAGACGTGGAG CTGATCAACGAGCTTGTGGAAGTGGTTGCGATGGACTTGGGCCTCGAAAACGAACTCTTTAACGAGCTGC TGCTGACGGACGTGTGGCTAGTTTCGCTGGGAGGGACATTCGTCATGGCTAGCGTGTGGTTGTACACGGG ATCGGCATTCATCACCTTGATGTCCTGCGTAGCCATATGCTTTTCGCTAGGACTAGCGTACTTTTTTTAC GCCATCGTGCTGGAGTTTGAGTTCTTCCCCTATATGAACCTTCTGGCCGTGGTAGTAATAATTGGCATTG GAGCAGACGACGTATTTCTGTTTCTTAAGATCTGGCACTGTGTGCTGACCGAGAGGTTCAGCAATCGATG TACCTTGACCACTCAGTCCCAGAGTGCTCTTCCCACCCTGGAGAACAGTGATCACACGGAGTCACTGGAA AACATAATGGCGCTGACTATGCGACATGCCGCTGCCTCCATGTTCGTTACCTCACTTACCACCGCCGGCG CCTTTTATGCCTCCTACAGCAGCTCTATAACAGCTATAAAGTGCTTTGGGATTTTTGCGGGAACTGTCGT GGTGACCAACTACTTACTAATGATAACTTGGTTGCCTGCATCGGTCTCCATCATGGAACGACTATTTGCC ACAAGGATGTCCTGCCATCATCCGATGTCAATAAAGCTGATCCACGCCTGCAAGAAGTCAATTAACCGAT TTTGTCAGATGTTTGAAGAGTGCATCACGAAAAGCATCATGAACTATGCCTATCTCTGGCTGCTGATCTT TGGGGCTCTAGGCGCGTCCAGTGCCGTCATTGTGTTCTGGTATCCAGGACTTCAGTTGCCGGAAAAATCA CACTTCCAGCTCTTTGTGTCAAAGCATCCATTTGAGGTTTACTCCAGTCTCAAGCAGCAGTTCTGGTTCG AGAAACCATGGCAGGCGTACGAGAACTTCAAGATGCACATGCATTTCGTCTGGGGCGTTCAAGCGGTGGA CGACGGCGACTATACGAACCCCAACTCATACGGCCACCTGCACTATGACAATAATTTTAACGTATCCAGC AGGCCGGCACAACTCTGGATCCTTGATTTTTGCCAGAGTGTGCGCCAGCAACCCTTTTACAAAGAGACTC TCGGCATGCTGTTGCCCAATTGTTTCATTGAAAATCTTATCGACTATATGAAGCGCAGATGCATCGATGA TATGGACAGTACCAGGAAAGACCGTTCACCCTGCTGTGACGCACAGTTTCCCTTCGAGCCGCACATATTT GAGTACTGCTTGCCACAAAGCATATCCAACATGTATGACACTACATTTTTCCGGCCCGGCGTGGCAGGAC CCAAGTTTGCAGAGGCTCCCCGACTGGAGACTGAGGATTACCTAGGAATGAGTGGAAATGAGAGTGCAGA GTACAGCACCAACGGATCATTTACACCGCTACTAGTCAAAGCCCTGGTCATCGAGTTCGAGTCCAACGTG GCCTACAGCACCATCTACGCAAATATTAGGCAGTTCTACGAGTCTGTAGAGCACTGGTTTCAGATGCAGT TAAAAACGGCACCGCCGGAACTTCAAGGAGGATGGTTCACGAGCGACCTGAAATTTTACAATGTGCAGGA CACCCTTTCGCACGACACCTTTGTTGCCATTTGTCTGGCCATGGCTGCATCACTTGCAGTGCTCCTATGC TTCACCGTAAACATATTGATTTCCATCTACGCCGTACTAACCGTGTCGCTAAGTATTTTTAACACCGTGG CTGTGCTCATCCTGCTCGGCTGGCAGCTTAACATCTTGGAGAGCATTGCGGTGAGCACGGCTATCGGTCT GGCTGTGGACTTTAGCCTACATTACGGTATTCACTACCGGATGTCCCCGGTTAAGGAGAGATTGGCAGCC ACACAGTTTGTACTATCCCGCATCATTGGACCCACAGTGATGGCGGCCACCACAACTGGTCTAGCTGGCG GAATCATGATGGCATCCAACATATTGCCCTACATACAGATTGGCGTCTTCCTGGTCGTTGTCATGATCGT TAGCTGGTTCTATGCCACTTTCTTTCTAATGAGTCTGCTTCGGGTTGCCGGTCCTCAGCATGGTTTTCTG GAACTCAAGTGGCCGTTGTGGAGCAAGCGAAGCAGTGGCAGCAGCAAGTTCTACGAGCGGAAACCCAGCC AAGTGATCGCCAGCGAGCAGCTGCTGACCCCCACAAGCTCGGCCATCGTTGAGTTGGCGAACTCGGAGAC GCACGAACTGGAGTCCCTAAACTCCAACAGCCTGATCAAAACCATTTCGGGCATCGAAAGCGCCCACGCA TTGTCCTCGCTGCCGAGGGACTTCGAGCACTCATTCCAGACGATGCACGAGTGCAAATATCAAACGTATC CGTCTACATCCAATTGA\n",
      "length: 3657\n",
      "this is not allergens\n"
     ]
    },
    {
     "data": {
      "text/plain": [
       "0"
      ]
     },
     "execution_count": 3,
     "metadata": {},
     "output_type": "execute_result"
    }
   ],
   "source": [
    "import subprocess\n",
    "from sklearn.datasets import load_svmlight_file\n",
    "from sklearn.model_selection import train_test_split \n",
    "from sklearn.neighbors import KNeighborsClassifier \n",
    "\n",
    "\n",
    "def get_data():\n",
    "    data = load_svmlight_file(\"A.txt\")\n",
    "    return data[0], data[1]\n",
    "\n",
    "X, y = get_data()\n",
    "X_train, X_test, y_train, y_test = train_test_split(X, y)\n",
    "from numpy import ndarray\n",
    "from  Bio  import  SeqIO\n",
    "countnon=0\n",
    "countyes=0\n",
    "print(\"please input the sequence\")\n",
    "allinput = input()\n",
    "allinput = allinput.replace(\" \",\"\")\n",
    "\n",
    "data = [None] * 26\n",
    "arr = [None] * 26\n",
    "value = [None] * 26 \n",
    "countnon+=1\n",
    "\"\"\"print \" str.count(sub, 4, 40) : \" , str . count ( sub , 4 , 40 ) sub = \" wow \" ;\"\"\"\n",
    "\"\"\"print \" str.count(sub) : \" , str . count ( sub )\"\"\"\n",
    "length=len(allinput)\n",
    "print(\"length:\",length)\n",
    "fp = open(\"all.txt\", \"w\",encoding=\"utf-8\")\n",
    "for j in range(26):\n",
    "    value[j]=float(0)\n",
    "    letter=(str(chr(j+65)))\n",
    "    data[j]=letter\n",
    "for i in range(length):\n",
    "    a=allinput[i]\n",
    "    \n",
    "    c=allinput.count(a)\n",
    "    \n",
    "    value[(ord(a)-65)]=float((c/(length-1)))\n",
    "for j in range(26):\n",
    "    if(j==0):\n",
    "        fp.write(\"{} {}:{}\".format(1,j,value[j]))\n",
    "    else:\n",
    "        fp.write(\" {}:{}\".format(j,value[j]))\n",
    "\n",
    "def get_predict_data():\n",
    "    data = load_svmlight_file(\"A.txt\")\n",
    "    \n",
    "    return data[0], data[1]\n",
    "pred_X,pred_y=get_predict_data()\n",
    "\n",
    "input_X_train, input_X_test, input_y_train, input_y_test = train_test_split(pred_X, pred_y)\n",
    "\n",
    "\"\"\"---------------------------------------------------------------------------------------\"\"\"        \n",
    "\n",
    "from sklearn import svm\n",
    "from sklearn.model_selection import train_test_split \n",
    "\n",
    "X_train, X_test, y_train, y_test = train_test_split(\n",
    "    X, y,  random_state=0)\n",
    "\n",
    "X_train.shape, y_train.shape\n",
    "\n",
    "X_test.shape, y_test.shape\n",
    "\n",
    "\n",
    "clf = svm.SVC(C=8,gamma=32).fit(X_train, y_train)\n",
    "result = clf.predict(input_X_test)\n",
    "\n",
    "\n",
    "if(result.all()>=1):\n",
    "    print(\"this is allergens\")\n",
    "else:\n",
    "    print(\"this is not allergens\")\n",
    "subprocess.call(\"pause\",shell=True)"
   ]
  },
  {
   "cell_type": "code",
   "execution_count": null,
   "metadata": {},
   "outputs": [],
   "source": []
  },
  {
   "cell_type": "code",
   "execution_count": null,
   "metadata": {},
   "outputs": [],
   "source": []
  }
 ],
 "metadata": {
  "kernelspec": {
   "display_name": "Python 3",
   "language": "python",
   "name": "python3"
  },
  "language_info": {
   "codemirror_mode": {
    "name": "ipython",
    "version": 3
   },
   "file_extension": ".py",
   "mimetype": "text/x-python",
   "name": "python",
   "nbconvert_exporter": "python",
   "pygments_lexer": "ipython3",
   "version": "3.7.1"
  }
 },
 "nbformat": 4,
 "nbformat_minor": 2
}
