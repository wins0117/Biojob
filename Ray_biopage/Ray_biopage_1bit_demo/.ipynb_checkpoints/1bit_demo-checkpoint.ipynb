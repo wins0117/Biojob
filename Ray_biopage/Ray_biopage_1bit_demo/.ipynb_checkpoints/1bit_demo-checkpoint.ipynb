{
 "cells": [
  {
   "cell_type": "code",
   "execution_count": 1,
   "metadata": {},
   "outputs": [
    {
     "name": "stdout",
     "output_type": "stream",
     "text": [
      "Requirement already satisfied: flask in c:\\users\\user\\anaconda3\\lib\\site-packages (1.0.2)\n",
      "Requirement already satisfied: itsdangerous>=0.24 in c:\\users\\user\\anaconda3\\lib\\site-packages (from flask) (1.1.0)\n",
      "Requirement already satisfied: Jinja2>=2.10 in c:\\users\\user\\anaconda3\\lib\\site-packages (from flask) (2.10)\n",
      "Requirement already satisfied: click>=5.1 in c:\\users\\user\\anaconda3\\lib\\site-packages (from flask) (7.0)\n",
      "Requirement already satisfied: Werkzeug>=0.14 in c:\\users\\user\\anaconda3\\lib\\site-packages (from flask) (0.14.1)\n",
      "Requirement already satisfied: MarkupSafe>=0.23 in c:\\users\\user\\anaconda3\\lib\\site-packages (from Jinja2>=2.10->flask) (1.1.0)\n"
     ]
    }
   ],
   "source": [
    "!pip install flask"
   ]
  },
  {
   "cell_type": "code",
   "execution_count": 5,
   "metadata": {
    "scrolled": true
   },
   "outputs": [
    {
     "name": "stdout",
     "output_type": "stream",
     "text": [
      " * Serving Flask app \"__main__\" (lazy loading)\n",
      " * Environment: production\n",
      "   WARNING: Do not use the development server in a production environment.\n",
      "   Use a production WSGI server instead.\n",
      " * Debug mode: off\n"
     ]
    },
    {
     "name": "stderr",
     "output_type": "stream",
     "text": [
      " * Running on http://127.0.0.1:5000/ (Press CTRL+C to quit)\n",
      "127.0.0.1 - - [03/Nov/2019 14:00:19] \"GET /bio_1bit_demo HTTP/1.1\" 200 -\n",
      "127.0.0.1 - - [03/Nov/2019 14:00:19] \"GET /css/style.css HTTP/1.1\" 404 -\n",
      "127.0.0.1 - - [03/Nov/2019 14:00:19] \"GET /css/style-wide.css HTTP/1.1\" 404 -\n"
     ]
    },
    {
     "name": "stdout",
     "output_type": "stream",
     "text": [
      "please input the sequence\n",
      "length: 137\n"
     ]
    },
    {
     "name": "stderr",
     "output_type": "stream",
     "text": [
      "[2019-11-03 14:00:25,985] ERROR in app: Exception on /bio_1bit_demo [POST]\n",
      "Traceback (most recent call last):\n",
      "  File \"C:\\Users\\user\\Anaconda3\\lib\\site-packages\\flask\\app.py\", line 2292, in wsgi_app\n",
      "    response = self.full_dispatch_request()\n",
      "  File \"C:\\Users\\user\\Anaconda3\\lib\\site-packages\\flask\\app.py\", line 1815, in full_dispatch_request\n",
      "    rv = self.handle_user_exception(e)\n",
      "  File \"C:\\Users\\user\\Anaconda3\\lib\\site-packages\\flask\\app.py\", line 1718, in handle_user_exception\n",
      "    reraise(exc_type, exc_value, tb)\n",
      "  File \"C:\\Users\\user\\Anaconda3\\lib\\site-packages\\flask\\_compat.py\", line 35, in reraise\n",
      "    raise value\n",
      "  File \"C:\\Users\\user\\Anaconda3\\lib\\site-packages\\flask\\app.py\", line 1813, in full_dispatch_request\n",
      "    rv = self.dispatch_request()\n",
      "  File \"C:\\Users\\user\\Anaconda3\\lib\\site-packages\\flask\\app.py\", line 1799, in dispatch_request\n",
      "    return self.view_functions[rule.endpoint](**req.view_args)\n",
      "  File \"<ipython-input-5-2d26857f606f>\", line 79, in submit\n",
      "    result = clf.predict(input_X_test)\n",
      "  File \"C:\\Users\\user\\Anaconda3\\lib\\site-packages\\sklearn\\svm\\base.py\", line 567, in predict\n",
      "    y = super(BaseSVC, self).predict(X)\n",
      "  File \"C:\\Users\\user\\Anaconda3\\lib\\site-packages\\sklearn\\svm\\base.py\", line 325, in predict\n",
      "    X = self._validate_for_predict(X)\n",
      "  File \"C:\\Users\\user\\Anaconda3\\lib\\site-packages\\sklearn\\svm\\base.py\", line 458, in _validate_for_predict\n",
      "    accept_large_sparse=False)\n",
      "  File \"C:\\Users\\user\\Anaconda3\\lib\\site-packages\\sklearn\\utils\\validation.py\", line 582, in check_array\n",
      "    context))\n",
      "ValueError: Found array with 0 sample(s) (shape=(0, 1)) while a minimum of 1 is required.\n",
      "127.0.0.1 - - [03/Nov/2019 14:00:25] \"POST /bio_1bit_demo HTTP/1.1\" 500 -\n"
     ]
    }
   ],
   "source": [
    "from flask import Flask, request, render_template\n",
    "app = Flask(__name__)\n",
    "\n",
    "@app.route(\"/bio_1bit_demo\" ,methods=['GET'])\n",
    "def getdata():\n",
    "    return render_template(\"left-sidebar-分類器1.html\")\n",
    "\n",
    "@app.route(\"/bio_1bit_demo\" ,methods=['POST'])\n",
    "def submit():\n",
    "    name = request.form.get(\"username\")\n",
    "    #-------------------------------------------------------------------------\n",
    "    import subprocess\n",
    "    from sklearn.datasets import load_svmlight_file\n",
    "    from sklearn.model_selection import train_test_split \n",
    "    from sklearn.neighbors import KNeighborsClassifier \n",
    "\n",
    "\n",
    "    def get_data():\n",
    "        data = load_svmlight_file(\"one.txt\")\n",
    "        return data[0], data[1]\n",
    "\n",
    "    X, y = get_data()\n",
    "    X_train, X_test, y_train, y_test = train_test_split(X, y)\n",
    "    from numpy import ndarray\n",
    "    from  Bio  import  SeqIO\n",
    "    countnon=0\n",
    "    countyes=0\n",
    "    print(\"please input the sequence\")\n",
    "    allinput = name #輸入傳入\n",
    "    allinput = allinput.replace(\" \",\"\")\n",
    "\n",
    "    data = [None] * 26\n",
    "    arr = [None] * 26\n",
    "    value = [None] * 26 \n",
    "    countnon+=1\n",
    "    \"\"\"print \" str.count(sub, 4, 40) : \" , str . count ( sub , 4 , 40 ) sub = \" wow \" ;\"\"\"\n",
    "    \"\"\"print \" str.count(sub) : \" , str . count ( sub )\"\"\"\n",
    "    length=len(allinput)\n",
    "    print(\"length:\",length)\n",
    "    fp = open(\"all.txt\", \"w\",encoding=\"utf-8\")\n",
    "    for j in range(26):\n",
    "        value[j]=float(0)\n",
    "        letter=(str(chr(j+65)))\n",
    "        data[j]=letter\n",
    "    for i in range(length):\n",
    "        a=allinput[i]\n",
    "    \n",
    "        c=allinput.count(a)\n",
    "    \n",
    "        value[(ord(a)-65)]=float((c/(length-1)))\n",
    "    for j in range(26):\n",
    "        if(j==0):\n",
    "            fp.write(\"{} {}:{}\".format(1,j,value[j]))\n",
    "        else:\n",
    "            fp.write(\" {}:{}\".format(j,value[j]))\n",
    "\n",
    "    def get_predict_data():\n",
    "        data = load_svmlight_file(\"all.txt\")#one or all?---------------\n",
    "    \n",
    "        return data[0], data[1]\n",
    "    pred_X,pred_y=get_predict_data()\n",
    "\n",
    "    input_X_train, input_X_test, input_y_train, input_y_test = train_test_split(pred_X, pred_y)\n",
    "\n",
    "    \"\"\"---------------------------------------------------------------------------------------\"\"\"        \n",
    "\n",
    "    from sklearn import svm\n",
    "    from sklearn.model_selection import train_test_split \n",
    "\n",
    "    X_train, X_test, y_train, y_test = train_test_split(\n",
    "        X, y,  random_state=0)\n",
    "\n",
    "    X_train.shape, y_train.shape\n",
    "\n",
    "    X_test.shape, y_test.shape\n",
    "\n",
    "\n",
    "    clf = svm.SVC(C=2,gamma=512).fit(X_train, y_train)\n",
    "    result = clf.predict(input_X_test)\n",
    "\n",
    "\n",
    "    if(result.all()>=1):\n",
    "        return \"this is allergens\"\n",
    "    else:\n",
    "        return \"this is not allergens\"\n",
    "    subprocess.call(\"pause\",shell=True)\n",
    "    #return \"Hello,\"+name-------------------------------\n",
    "    \n",
    "if __name__ == \"__main__\":\n",
    "    app.run()"
   ]
  },
  {
   "cell_type": "code",
   "execution_count": null,
   "metadata": {},
   "outputs": [],
   "source": []
  }
 ],
 "metadata": {
  "kernelspec": {
   "display_name": "Python 3",
   "language": "python",
   "name": "python3"
  },
  "language_info": {
   "codemirror_mode": {
    "name": "ipython",
    "version": 3
   },
   "file_extension": ".py",
   "mimetype": "text/x-python",
   "name": "python",
   "nbconvert_exporter": "python",
   "pygments_lexer": "ipython3",
   "version": "3.7.1"
  }
 },
 "nbformat": 4,
 "nbformat_minor": 2
}
