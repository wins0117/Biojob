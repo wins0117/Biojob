{
 "cells": [
  {
   "cell_type": "code",
   "execution_count": 4,
   "metadata": {},
   "outputs": [
    {
     "name": "stdout",
     "output_type": "stream",
     "text": [
      "Requirement already satisfied: flask in c:\\users\\user\\anaconda3\\lib\\site-packages (1.0.2)\n",
      "Requirement already satisfied: itsdangerous>=0.24 in c:\\users\\user\\anaconda3\\lib\\site-packages (from flask) (1.1.0)\n",
      "Requirement already satisfied: Jinja2>=2.10 in c:\\users\\user\\anaconda3\\lib\\site-packages (from flask) (2.10)\n",
      "Requirement already satisfied: Werkzeug>=0.14 in c:\\users\\user\\anaconda3\\lib\\site-packages (from flask) (0.14.1)\n",
      "Requirement already satisfied: click>=5.1 in c:\\users\\user\\anaconda3\\lib\\site-packages (from flask) (7.0)\n",
      "Requirement already satisfied: MarkupSafe>=0.23 in c:\\users\\user\\anaconda3\\lib\\site-packages (from Jinja2>=2.10->flask) (1.1.0)\n"
     ]
    }
   ],
   "source": [
    "!pip install flask"
   ]
  },
  {
   "cell_type": "code",
   "execution_count": 3,
   "metadata": {},
   "outputs": [
    {
     "name": "stdout",
     "output_type": "stream",
     "text": [
      " * Serving Flask app \"__main__\" (lazy loading)\n",
      " * Environment: production\n",
      "   WARNING: Do not use the development server in a production environment.\n",
      "   Use a production WSGI server instead.\n",
      " * Debug mode: off\n"
     ]
    },
    {
     "name": "stderr",
     "output_type": "stream",
     "text": [
      " * Running on http://127.0.0.1:5000/ (Press CTRL+C to quit)\n"
     ]
    },
    {
     "name": "stdout",
     "output_type": "stream",
     "text": [
      "please input the sequence\n",
      "length: 137\n"
     ]
    },
    {
     "name": "stderr",
     "output_type": "stream",
     "text": [
      "127.0.0.1 - - [03/Nov/2019 14:20:50] \"POST /bio_3bit_demo HTTP/1.1\" 200 -\n"
     ]
    }
   ],
   "source": [
    "from flask import Flask, request, render_template\n",
    "import numpy as np#3bit\n",
    "app = Flask(__name__)\n",
    "\n",
    "@app.route(\"/bio_3bit_demo\",methods=['GET'])\n",
    "def getdata():\n",
    "    return render_template(\"left-sidebar-分類器1.html\")\n",
    "\n",
    "@app.route(\"/bio_3bit_demo\",methods=['POST'])\n",
    "def submit():\n",
    "    name = request.form.get(\"username\")\n",
    "    #-------------------------------------------------------------------------\n",
    "    import subprocess\n",
    "    from sklearn.datasets import load_svmlight_file\n",
    "    from sklearn.model_selection import train_test_split \n",
    "    from sklearn.neighbors import KNeighborsClassifier \n",
    "\n",
    "\n",
    "    def get_data():\n",
    "        data = load_svmlight_file(\"A.txt\")\n",
    "        return data[0], data[1]\n",
    "\n",
    "    X, y = get_data()\n",
    "    X_train, X_test, y_train, y_test = train_test_split(X, y)\n",
    "    from numpy import ndarray\n",
    "    from  Bio  import  SeqIO\n",
    "    countnon=0\n",
    "    countyes=0\n",
    "    print(\"please input the sequence\")\n",
    "    allinput = name\n",
    "    allinput = allinput.replace(\" \",\"\")\n",
    "\n",
    "    data = [None] * 26\n",
    "    arr = [None] * 26\n",
    "    value = [None] * 26 \n",
    "    countnon+=1\n",
    "    length=len(allinput)\n",
    "    print(\"length:\",length)\n",
    "    \n",
    "    array0 = np.array([\"A\",\"B\",\"C\",\"D\",\"E\",\"F\",\"G\",\"H\",\"I\",\"J\",\"K\",\"L\",\"M\",\"N\",\"O\",\"P\",\"Q\",\"R\",\"S\",\"T\",\"U\",\"V\",\"W\",\"X\",\"Y\",\"Z\",])\n",
    "    array1 = np.array([\"A\",\"B\",\"C\",\"D\",\"E\",\"F\",\"G\",\"H\",\"I\",\"J\",\"K\",\"L\",\"M\",\"N\",\"O\",\"P\",\"Q\",\"R\",\"S\",\"T\",\"U\",\"V\",\"W\",\"X\",\"Y\",\"Z\",])\n",
    "    array2 = np.array([\"A\",\"B\",\"C\",\"D\",\"E\",\"F\",\"G\",\"H\",\"I\",\"J\",\"K\",\"L\",\"M\",\"N\",\"O\",\"P\",\"Q\",\"R\",\"S\",\"T\",\"U\",\"V\",\"W\",\"X\",\"Y\",\"Z\",])\n",
    "    fp = open(\"all.txt\", \"w\",encoding=\"utf-8\")\n",
    "    time=1\n",
    "    fp.write(\"1 \")\n",
    "    for i in range(len(array0)):\n",
    "        for j in range(len(array1)):\n",
    "            for k in range(len(array2)):\n",
    "                now=array0[i]+array1[j]+array2[k]\n",
    "                strnow=str(time)+\":\"+str(allinput.count(now)/(len(allinput)-2))+\" \"#寫入\n",
    "                fp.write(strnow)#寫入\n",
    "                time=time+1\n",
    "    fp.write('\\n')\n",
    "    fp.close()\n",
    "\n",
    "    def get_predict_data():\n",
    "        data = load_svmlight_file(\"all.txt\")#all or A?--------------\n",
    "    \n",
    "        return data[0], data[1]\n",
    "    pred_X,pred_y=get_predict_data()\n",
    "\n",
    "    input_X_train, input_X_test, input_y_train, input_y_test = train_test_split(pred_X, pred_y)\n",
    "\n",
    "    \"\"\"---------------------------------------------------------------------------------------\"\"\"        \n",
    "\n",
    "    from sklearn import svm\n",
    "    from sklearn.model_selection import train_test_split \n",
    "\n",
    "    X_train, X_test, y_train, y_test = train_test_split(\n",
    "        X, y,  random_state=0)\n",
    "\n",
    "    X_train.shape, y_train.shape\n",
    "\n",
    "    X_test.shape, y_test.shape\n",
    "\n",
    "\n",
    "    clf = svm.SVC(C=8,gamma=32).fit(X_train, y_train)\n",
    "    result = clf.predict(input_X_test)\n",
    "\n",
    "\n",
    "    if(result.all()>=1):\n",
    "        return \"this is allergens\"\n",
    "    else:\n",
    "        return \"this is not allergens\"\n",
    "    subprocess.call(\"pause\",shell=True)\n",
    "    #return \"Hello,\"+name-------------------------------\n",
    "    \n",
    "if __name__ == \"__main__\":\n",
    "    app.run()"
   ]
  },
  {
   "cell_type": "code",
   "execution_count": null,
   "metadata": {},
   "outputs": [],
   "source": []
  }
 ],
 "metadata": {
  "kernelspec": {
   "display_name": "Python 3",
   "language": "python",
   "name": "python3"
  },
  "language_info": {
   "codemirror_mode": {
    "name": "ipython",
    "version": 3
   },
   "file_extension": ".py",
   "mimetype": "text/x-python",
   "name": "python",
   "nbconvert_exporter": "python",
   "pygments_lexer": "ipython3",
   "version": "3.7.1"
  }
 },
 "nbformat": 4,
 "nbformat_minor": 2
}
