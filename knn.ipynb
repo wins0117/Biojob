{
 "cells": [
  {
   "cell_type": "code",
   "execution_count": 6,
   "metadata": {},
   "outputs": [
    {
     "name": "stdout",
     "output_type": "stream",
     "text": [
      "0.8500823723228995\n"
     ]
    }
   ],
   "source": [
    "from sklearn import datasets as ds\n",
    "from sklearn.datasets import load_svmlight_file\n",
    "from sklearn.datasets import load_iris # iris数据集\n",
    "from sklearn.model_selection import train_test_split # 分割数据模块\n",
    "from sklearn.neighbors import KNeighborsClassifier # K最近邻(kNN，k-NearestNeighbor)分类算法\n",
    "\n",
    "def get_data():\n",
    "    data = load_svmlight_file(\"one.txt\")\n",
    "    return data[0],data[1]\n",
    "\n",
    "#加载iris数据集\n",
    "X, y = get_data()\n",
    "\n",
    "\n",
    "#分割数据并\n",
    "X_train, X_test, y_train, y_test = train_test_split(X, y, random_state=4)\n",
    "\n",
    "#建立模型\n",
    "knn = KNeighborsClassifier()\n",
    "\n",
    "#训练模型\n",
    "knn.fit(X_train, y_train)\n",
    "\n",
    "#将准确率打印出\n",
    "print(knn.score(X_test, y_test))\n",
    "# 0.973684210526"
   ]
  },
  {
   "cell_type": "code",
   "execution_count": 7,
   "metadata": {},
   "outputs": [
    {
     "name": "stderr",
     "output_type": "stream",
     "text": [
      "C:\\ProgramData\\Anaconda3\\lib\\site-packages\\sklearn\\cross_validation.py:41: DeprecationWarning: This module was deprecated in version 0.18 in favor of the model_selection module into which all the refactored classes and functions are moved. Also note that the interface of the new CV iterators are different from that of this module. This module will be removed in 0.20.\n",
      "  \"This module will be removed in 0.20.\", DeprecationWarning)\n"
     ]
    },
    {
     "name": "stdout",
     "output_type": "stream",
     "text": [
      "[0.87654321 0.92386831 0.9218107  0.90534979 0.89506173 0.90123457\n",
      " 0.85802469 0.85950413 0.66115702 0.72520661]\n",
      "0.8527760772710268\n"
     ]
    }
   ],
   "source": [
    "from sklearn.cross_validation import cross_val_score # K折交叉验证模块\n",
    "\n",
    "#使用K折交叉验证模块\n",
    "scores = cross_val_score(knn, X, y, cv=10, scoring='accuracy')\n",
    "\n",
    "#将5次的预测准确率打印出\n",
    "print(scores)\n",
    "# [ 0.96666667  1.          0.93333333  0.96666667  1.        ]\n",
    "\n",
    "#将5次的预测准确平均率打印出\n",
    "print(scores.mean())\n",
    "# 0.973333333333"
   ]
  },
  {
   "cell_type": "code",
   "execution_count": 8,
   "metadata": {},
   "outputs": [
    {
     "name": "stdout",
     "output_type": "stream",
     "text": [
      "0.8344316309719935\n"
     ]
    }
   ],
   "source": [
    "from sklearn import datasets as ds\n",
    "from sklearn.datasets import load_svmlight_file\n",
    "from sklearn.datasets import load_iris # iris数据集\n",
    "from sklearn.model_selection import train_test_split # 分割数据模块\n",
    "from sklearn.neighbors import KNeighborsClassifier # K最近邻(kNN，k-NearestNeighbor)分类算法\n",
    "\n",
    "def get_data():\n",
    "    data = load_svmlight_file(\"two.txt\")\n",
    "    return data[0],data[1]\n",
    "\n",
    "#加载iris数据集\n",
    "X, y = get_data()\n",
    "\n",
    "\n",
    "#分割数据并\n",
    "X_train, X_test, y_train, y_test = train_test_split(X, y, random_state=4)\n",
    "\n",
    "#建立模型\n",
    "knn = KNeighborsClassifier()\n",
    "\n",
    "#训练模型\n",
    "knn.fit(X_train, y_train)\n",
    "\n",
    "#将准确率打印出\n",
    "print(knn.score(X_test, y_test))\n",
    "# 0.973684210526"
   ]
  },
  {
   "cell_type": "code",
   "execution_count": 9,
   "metadata": {},
   "outputs": [
    {
     "name": "stdout",
     "output_type": "stream",
     "text": [
      "[0.86419753 0.90740741 0.89711934 0.90740741 0.88888889 0.88888889\n",
      " 0.8556701  0.83471074 0.6322314  0.6714876 ]\n",
      "0.8348009320179475\n"
     ]
    }
   ],
   "source": [
    "from sklearn.cross_validation import cross_val_score # K折交叉验证模块\n",
    "\n",
    "#使用K折交叉验证模块\n",
    "scores = cross_val_score(knn, X, y, cv=10, scoring='accuracy')\n",
    "\n",
    "#将5次的预测准确率打印出\n",
    "print(scores)\n",
    "# [ 0.96666667  1.          0.93333333  0.96666667  1.        ]\n",
    "\n",
    "#将5次的预测准确平均率打印出\n",
    "print(scores.mean())\n",
    "# 0.973333333333"
   ]
  },
  {
   "cell_type": "code",
   "execution_count": 11,
   "metadata": {},
   "outputs": [
    {
     "data": {
      "image/png": "[encoded data removed]",
      "text/plain": [
       "<Figure size 432x288 with 1 Axes>"
      ]
     },
     "metadata": {},
     "output_type": "display_data"
    }
   ],
   "source": [
    "import matplotlib.pyplot as plt #可视化模块\n",
    "\n",
    "#建立测试参数集\n",
    "k_range = range(1, 31)\n",
    "\n",
    "k_scores = []\n",
    "\n",
    "#藉由迭代的方式来计算不同参数对模型的影响，并返回交叉验证后的平均准确率\n",
    "for k in k_range:\n",
    "    knn = KNeighborsClassifier(n_neighbors=k)\n",
    "    scores = cross_val_score(knn, X, y, cv=10, scoring='accuracy')\n",
    "    k_scores.append(scores.mean())\n",
    "\n",
    "#可视化数据\n",
    "plt.plot(k_range, k_scores)\n",
    "plt.xlabel('Value of K for KNN')\n",
    "plt.ylabel('Cross-Validated Accuracy')\n",
    "plt.show()"
   ]
  },
  {
   "cell_type": "code",
   "execution_count": null,
   "metadata": {},
   "outputs": [],
   "source": []
  }
 ],
 "metadata": {
  "kernelspec": {
   "display_name": "Python 3",
   "language": "python",
   "name": "python3"
  },
  "language_info": {
   "codemirror_mode": {
    "name": "ipython",
    "version": 3
   },
   "file_extension": ".py",
   "mimetype": "text/x-python",
   "name": "python",
   "nbconvert_exporter": "python",
   "pygments_lexer": "ipython3",
   "version": "3.6.5"
  }
 },
 "nbformat": 4,
 "nbformat_minor": 2
}
